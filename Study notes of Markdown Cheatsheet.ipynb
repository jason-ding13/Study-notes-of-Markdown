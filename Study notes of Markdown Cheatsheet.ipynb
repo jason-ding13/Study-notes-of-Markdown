{
 "cells": [
  {
   "cell_type": "markdown",
   "metadata": {},
   "source": [
    "# Markdown Cheat Sheet\n",
    "---\n",
    "这作为一个快速参考和展示。\n",
    "有关更完整的信息，请参阅[John Gruber's original spec](https://daringfireball.net/projects/markdown/)\n",
    "和[Github-flavored Markdown info page](https://help.github.com/categories/writing-on-github/)。  \n",
    "如果这就是你所想要的，\n",
    "请注意这里还有一个[Markdown Cheat Sheet](https://github.com/adam-p/markdown-here/wiki/Markdown-Here-Cheatsheet)。\n",
    "你也可以看看[more Markdown tools](https://github.com/adam-p/markdown-here/wiki/Other-Markdown-Tools)。\n",
    "\n",
    "**目录**\n",
    "1. 标题  \n",
    "2. 斜体、加粗、划线  \n",
    "3. 列表  \n",
    "4. 超链接  \n",
    "5. 图片  \n",
    "6. 代码与语法高亮\n",
    "7. 表格\n",
    "8. 引用文字\n",
    "9. html\n",
    "10. 分割线规则\n",
    "11. 换行\n",
    "12. 视频"
   ]
  },
  {
   "cell_type": "markdown",
   "metadata": {},
   "source": [
    "## 标题\n",
    "---"
   ]
  },
  {
   "cell_type": "raw",
   "metadata": {},
   "source": [
    "# 一级标题\n",
    "## 二级标题\n",
    "### 三级标题\n",
    "#### 四级标题\n",
    "##### 五级标题\n",
    "###### 六级标题\n",
    "\n",
    "对于一级标题与二级标题，可以选择其它方式排版:\n",
    "\n",
    "一级标题\n",
    "\n",
    "二级标题\n",
    "------"
   ]
  },
  {
   "cell_type": "markdown",
   "metadata": {},
   "source": [
    "# 一级标题\n",
    "## 二级标题\n",
    "### 三级标题\n",
    "#### 四级标题\n",
    "##### 五级标题\n",
    "###### 六级标题\n",
    "\n",
    "对于一级标题与二级标题，可以选择其它方式排版：\n",
    "\n",
    "一级标题\n",
    "======\n",
    "\n",
    "二级标题\n",
    "------"
   ]
  },
  {
   "cell_type": "markdown",
   "metadata": {},
   "source": [
    "## 斜体、加粗、划线\n",
    "---"
   ]
  },
  {
   "cell_type": "raw",
   "metadata": {},
   "source": [
    "斜体强调，使用 *星号* 或者 _下划线_。\n",
    "\n",
    "加粗强调，使用 **双星号** 或者 __双下划线__。\n",
    "\n",
    "斜体加粗强调，组合使用 **星号 和 _下划线_**。\n",
    "\n",
    "划线使用双波浪号。~~划此处~~。"
   ]
  },
  {
   "cell_type": "markdown",
   "metadata": {},
   "source": [
    "斜体强调，使用 *星号* 或者 _下划线_。\n",
    "\n",
    "加粗强调，使用 **双星号** 或者 __双下划线__。\n",
    "\n",
    "斜体加粗强调，组合使用 **星号 和 _下划线_**。\n",
    "\n",
    "划线使用双波浪号。~~划此处~~。"
   ]
  },
  {
   "cell_type": "markdown",
   "metadata": {},
   "source": [
    "## 列表\n",
    "---\n",
    "（以下这个例子，每行开始与结束的空格将使用点号替代：·）"
   ]
  },
  {
   "cell_type": "raw",
   "metadata": {},
   "source": [
    "1. 有序列表第一个元素\n",
    "2. 有序列表第二个元素\n",
    "⋅⋅* 无序子列表。\n",
    "1. 有序列表第三个元素，此处'1'不代表实际的顺序，仅仅代表列表标记。\n",
    "⋅⋅1. 有序子列表。\n",
    "4. 有序列表第四个元素\n",
    "\n",
    "⋅⋅⋅在列表元素中你可以合适的缩进段落。\n",
    "⋅⋅⋅注意上面的空行，上一行和本行开始的空格。(至少使用一个空格，我们在这里使用三个空格来对齐Markdown)\n",
    "\n",
    "⋅⋅⋅实现段落中换行，你需要在行结束使用两个空格。⋅⋅\n",
    "⋅⋅⋅注意这一行与上一行实现换行，但是是在同一个段落中。⋅⋅\n",
    "⋅⋅⋅(这与典型的GFM换行操作相反，GFM换行不需要在行结束使用空格。)⋅⋅\n",
    "⋅⋅⋅下面两行的空行表示列表标记的结束和新段落的开始。实际打印只有一行空行。\n",
    "\n",
    "\n",
    "* 无序列表可以使用星号\n",
    "- 或者减号\n",
    "+ 或者加号"
   ]
  },
  {
   "cell_type": "markdown",
   "metadata": {
    "collapsed": true
   },
   "source": [
    "1. 有序列表第一个元素\n",
    "2. 有序列表第二个元素\n",
    "  * 无序子列表。\n",
    "1. 有序列表第三个元素，此处'1'不代表实际的顺序，仅仅代表列表标记。\n",
    "  1. 有序子列表。\n",
    "4. 有序列表第四个元素\n",
    "\n",
    "   在列表元素中你可以合适的缩进段落。\n",
    "   注意上面的空行，上一行和本行开始的空格。(至少使用一个空格，我们在这里使用三个空格来对齐Markdown)\n",
    "\n",
    "   实现段落中换行，你需要在行结束使用两个空格。  \n",
    "   注意这一行与上一行实现换行，但是是在同一个段落中。  \n",
    "   (这与典型的GFM换行操作相反，GFM换行不需要在行结束使用空格。)  \n",
    "   下面两行的空行表示列表标记的结束和新段落的开始。实际打印只有一行空行。\n",
    "\n",
    "\n",
    "* 无序列表可以使用星号\n",
    "- 或者减号\n",
    "+ 或者加号"
   ]
  },
  {
   "cell_type": "markdown",
   "metadata": {},
   "source": [
    "## 超链接\n",
    "---\n",
    "有两种方法创建超链接："
   ]
  },
  {
   "cell_type": "raw",
   "metadata": {},
   "source": [
    "[使用中括号和小括号实现超链接，中括号中输入文字，小括号中输入链接](https://www.baidu.com)\n",
    "\n",
    "[此外，可在链接后使用空格+双引号加入标题](https://www.baidu.com \"百度首页\")\n",
    "\n",
    "[单独使用中括号实现类似引用的超链接][任意不区分大小写的文本作为标记]\n",
    "\n",
    "[I'm a relative reference to a repository file](../blob/master/LICENSE)\n",
    "\n",
    "[除了文本还可以使用数字作为标记][1]\n",
    "\n",
    "或者直接使用文字输入部分直接作为标记[超链接]。\n",
    "\n",
    "网址和小于号大于号中的网址将自动转为超链接，注意空格分隔非网址文本与网址。\n",
    "\n",
    "如 http://www.example.com 或 <http://www.example.com>。\n",
    "\n",
    "但是如 example.com 这种不准确的网址不一定可以。\n",
    "\n",
    "最后列出引用型超链接每个标记的链接，列出的链接将不会被打印。\n",
    "\n",
    "同样可以在链接后使用空格+双引号加入标题。\n",
    "\n",
    "[任意不区分大小写的文本作为标记]: https://www.google.com/chrome/browser/desktop/index.html \"Chrome\"\n",
    "[1]: http://csdn.net \"csdn\"\n",
    "[超链接]: https://nba.hupu.com \"虎扑篮球\""
   ]
  },
  {
   "cell_type": "markdown",
   "metadata": {},
   "source": [
    "[使用中括号和小括号实现超链接，中括号中输入文字，小括号中输入链接](https://www.baidu.com)\n",
    "\n",
    "[此外，可在链接后使用空格+双引号加入标题](https://www.baidu.com \"百度首页\")\n",
    "\n",
    "[单独使用中括号实现类似引用的超链接][任意不区分大小写的文本作为标记]\n",
    "\n",
    "[I'm a relative reference to a repository file](../blob/master/LICENSE)\n",
    "\n",
    "[除了文本还可以使用数字作为标记][1]\n",
    "\n",
    "或者直接使用文字输入部分直接作为标记[超链接]。\n",
    "\n",
    "网址和小于号大于号中的网址将自动转为超链接，注意空格分隔非网址文本与网址。\n",
    "\n",
    "如 http://www.example.com 或 <http://www.example.com>。\n",
    "\n",
    "但是如 example.com 这种不准确的网址不一定可以。\n",
    "\n",
    "最后列出引用型超链接每个标记的链接，列出的链接将不会被打印。\n",
    "\n",
    "同样可以在链接后使用空格+双引号加入标题。\n",
    "\n",
    "[任意不区分大小写的文本作为标记]: https://www.google.com/chrome/browser/desktop/index.html \"Chrome\"\n",
    "[1]: http://csdn.net \"csdn\"\n",
    "[超链接]: https://nba.hupu.com \"虎扑篮球\""
   ]
  },
  {
   "cell_type": "markdown",
   "metadata": {},
   "source": [
    "## 图片\n",
    "---"
   ]
  },
  {
   "cell_type": "raw",
   "metadata": {},
   "source": [
    "这是Markdown的logo：\n",
    "\n",
    "类似超链接的方式，组合感叹号插入图片。\n",
    "\n",
    "在图片链接后使用空格+双引号加入标题。\n",
    "![选择性输入文本作为图片注释，此处的文本将不会被打印](https://upload.wikimedia.org/wikipedia/commons/4/48/Markdown-mark.svg \"Logo1\")\n",
    "\n",
    "同样可以实现类似引用的插入图片。\n",
    "![同样此处可选择性输入][logo]\n",
    "\n",
    "[logo]: https://upload.wikimedia.org/wikipedia/commons/4/48/Markdown-mark.svg \"Logo2\""
   ]
  },
  {
   "cell_type": "markdown",
   "metadata": {},
   "source": [
    "这是Markdown的logo：\n",
    "\n",
    "类似超链接的方式，组合感叹号插入图片。\n",
    "\n",
    "在图片链接后使用空格+双引号加入标题。\n",
    "![选择性输入文本作为图片注释，此处的文本将不会被打印](https://upload.wikimedia.org/wikipedia/commons/4/48/Markdown-mark.svg \"Logo1\")\n",
    "\n",
    "同样可以实现类似引用的插入图片。\n",
    "![同样此处可选择性输入][logo]\n",
    "\n",
    "[logo]: https://upload.wikimedia.org/wikipedia/commons/4/48/Markdown-mark.svg \"Logo2\""
   ]
  },
  {
   "cell_type": "markdown",
   "metadata": {},
   "source": [
    "## 代码和语法高亮\n",
    "---"
   ]
  },
  {
   "cell_type": "markdown",
   "metadata": {},
   "source": [
    "代码块是Markdown规范的一部分，但语法高亮不是。但是许多排版工具都支持语法高亮。  \n",
    "支持哪些语言以及应如何编写这些语言名称因工具而异。  \n",
    "Markdown在这里支持语法高亮显示数十种语言（而完全是真正的语言，如diffs和HTTP headers）。  \n",
    "要查看完整的列表，以及如何编写语言名称，请参阅[highlight.js demo page][1]。\n",
    "\n",
    "[1]: https://highlightjs.org/static/demo/"
   ]
  },
  {
   "cell_type": "raw",
   "metadata": {},
   "source": [
    "Inline `code` has `back-ticks around` it."
   ]
  },
  {
   "cell_type": "markdown",
   "metadata": {},
   "source": [
    "Inline `code` has `back-ticks around` it."
   ]
  },
  {
   "cell_type": "markdown",
   "metadata": {},
   "source": [
    "Blocks of code are either fenced by lines with three back-ticks ```, or are indented with four spaces. I recommend only using the fenced code blocks -- they're easier and only they support syntax highlighting."
   ]
  },
  {
   "cell_type": "raw",
   "metadata": {},
   "source": [
    "```javascript\n",
    "var s = \"JavaScript syntax highlighting\";\n",
    "alert(s);\n",
    "```\n",
    " \n",
    "```python\n",
    "s = \"Python syntax highlighting\"\n",
    "print s\n",
    "```\n",
    " \n",
    "```\n",
    "No language indicated, so no syntax highlighting. \n",
    "But let's throw in a <b>tag</b>.\n",
    "```"
   ]
  },
  {
   "cell_type": "markdown",
   "metadata": {},
   "source": [
    "```javascript\n",
    "var s = \"JavaScript syntax highlighting\";\n",
    "alert(s);\n",
    "```\n",
    " \n",
    "```python\n",
    "s = \"Python syntax highlighting\"\n",
    "print s\n",
    "```\n",
    " \n",
    "```\n",
    "No language indicated, so no syntax highlighting. \n",
    "But let's throw in a <b>tag</b>.\n",
    "```"
   ]
  },
  {
   "cell_type": "markdown",
   "metadata": {},
   "source": [
    "## 表格\n",
    "---\n",
    "表格不是Markdown的核心规范，但这是GFM的一部分同时Markdown支持表格的排版。  \n",
    "They are an easy way of adding tables to your email -- a task that would otherwise require copy-pasting from another application."
   ]
  },
  {
   "cell_type": "raw",
   "metadata": {},
   "source": [
    "竖杠可以用于对齐表格的列。\n",
    "\n",
    "| 表格头      | 第二列 | 第三列 |  \n",
    "| ------     |:-----:| -----:|  \n",
    "| 冒号实现对齐 | 中对齐 | 右对齐 |  \n",
    "\n",
    "There must be at least 3 dashes separating each header cell.\n",
    "\n",
    "两边的竖杠（|）是可选的\n",
    "如果你不需要让原始的Markdown排版很好看，你可以直接使用竖杠组织表格。\n",
    "\n",
    "Markdown |  | Pretty\n",
    "--- | --- | ---\n",
    "*Still* | `renders` | **nicely**\n",
    "1 | 2 | 3"
   ]
  },
  {
   "cell_type": "markdown",
   "metadata": {},
   "source": [
    "竖杠可以用于对齐表格的列。\n",
    "\n",
    "| 表格头      | 第二列 | 第三列 |  \n",
    "| ------     |:-----:| -----:|  \n",
    "| 冒号实现对齐 | 中对齐 | 右对齐 |  \n",
    "\n",
    "There must be at least 3 dashes separating each header cell.\n",
    "\n",
    "两边的竖杠（|）是可选的\n",
    "如果你不需要让原始的Markdown排版很好看，你可以直接使用竖杠组织表格。\n",
    "\n",
    "Markdown |  | Pretty\n",
    "--- | --- | ---\n",
    "*Still* | `renders` | **nicely**\n",
    "1 | 2 | 3"
   ]
  },
  {
   "cell_type": "markdown",
   "metadata": {
    "collapsed": true
   },
   "source": [
    "## 引用文字\n",
    "---"
   ]
  },
  {
   "cell_type": "raw",
   "metadata": {},
   "source": [
    "> Blockquotes are very handy in email to emulate reply text.\n",
    "> This line is part of the same quote.\n",
    "\n",
    "Quote break.\n",
    "\n",
    "> This is a very long line that will still be quoted properly when it wraps. Oh boy let's keep writing to make sure this is long enough to actually wrap for everyone. Oh, you can *put* **Markdown** into a blockquote. "
   ]
  },
  {
   "cell_type": "markdown",
   "metadata": {},
   "source": [
    "> Blockquotes are very handy in email to emulate reply text.\n",
    "> This line is part of the same quote.\n",
    "\n",
    "Quote break.\n",
    "\n",
    "> This is a very long line that will still be quoted properly when it wraps. Oh boy let's keep writing to make sure this is long enough to actually wrap for everyone. Oh, you can *put* **Markdown** into a blockquote. "
   ]
  }
 ],
 "metadata": {
  "kernelspec": {
   "display_name": "Python 3",
   "language": "python",
   "name": "python3"
  },
  "language_info": {
   "codemirror_mode": {
    "name": "ipython",
    "version": 3
   },
   "file_extension": ".py",
   "mimetype": "text/x-python",
   "name": "python",
   "nbconvert_exporter": "python",
   "pygments_lexer": "ipython3",
   "version": "3.6.1"
  }
 },
 "nbformat": 4,
 "nbformat_minor": 2
}
